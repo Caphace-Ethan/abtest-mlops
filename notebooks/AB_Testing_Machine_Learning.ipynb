{
 "cells": [
  {
   "cell_type": "markdown",
   "source": [
    "## A/B testing Using Machine Learning \n",
    "\n",
    "### ML modelling with MLOps"
   ],
   "metadata": {}
  },
  {
   "cell_type": "markdown",
   "source": [
    "### Spliting the data by browser and platform_os, and versioning each split as a new version of the data in dvc"
   ],
   "metadata": {}
  },
  {
   "cell_type": "code",
   "execution_count": 1,
   "source": [
    "# Importing necessary packages\n",
    "import numpy as np\n",
    "import pandas as pd\n",
    "import scipy.stats as stats\n",
    "import statsmodels.stats.api as sms\n",
    "import matplotlib as mpl\n",
    "import matplotlib.pyplot as plt\n",
    "import seaborn as sns\n",
    "from math import ceil"
   ],
   "outputs": [],
   "metadata": {}
  },
  {
   "cell_type": "markdown",
   "source": [
    "### Loading the data of Users that Responded"
   ],
   "metadata": {}
  },
  {
   "cell_type": "code",
   "execution_count": 3,
   "source": [
    "# Loading from my local storage\n",
    "path_to_data = \"../data/Resp_dataSet.csv\"\n",
    "data=pd.read_csv(path_to_data)\n",
    "data.info()"
   ],
   "outputs": [
    {
     "output_type": "stream",
     "name": "stdout",
     "text": [
      "<class 'pandas.core.frame.DataFrame'>\n",
      "RangeIndex: 1172 entries, 0 to 1171\n",
      "Data columns (total 9 columns):\n",
      " #   Column       Non-Null Count  Dtype \n",
      "---  ------       --------------  ----- \n",
      " 0   auction_id   1172 non-null   object\n",
      " 1   experiment   1172 non-null   object\n",
      " 2   date         1172 non-null   object\n",
      " 3   hour         1172 non-null   int64 \n",
      " 4   device_make  1172 non-null   object\n",
      " 5   platform_os  1172 non-null   int64 \n",
      " 6   browser      1172 non-null   object\n",
      " 7   yes          1172 non-null   int64 \n",
      " 8   no           1172 non-null   int64 \n",
      "dtypes: int64(4), object(5)\n",
      "memory usage: 82.5+ KB\n"
     ]
    }
   ],
   "metadata": {}
  },
  {
   "cell_type": "markdown",
   "source": [
    "### Splitting the Data\n"
   ],
   "metadata": {}
  },
  {
   "cell_type": "code",
   "execution_count": 7,
   "source": [
    "# Checking the Most used Browsers and Platform_os\n",
    "def high_frequency_category(data, column):\n",
    "    list_Of_Handset_In_Column=list(data[column].value_counts().index)\n",
    "    top_category_column = data[column].value_counts()\n",
    "    \n",
    "    return list_Of_Handset_In_Column, top_category_column\n",
    "\n",
    "list_Of_browsers, top_browsers = high_frequency_category(data, \"browser\")\n",
    "list_Of_platform_os, top_platform_os = high_frequency_category(data, \"platform_os\")\n",
    "\n",
    "print(f\" There are {len(list_Of_browsers)} browsers, and {len(list_Of_platform_os)} Platform Os used\")"
   ],
   "outputs": [
    {
     "output_type": "stream",
     "name": "stdout",
     "text": [
      " There are 8 browsers, and 2 Platform Os used\n"
     ]
    }
   ],
   "metadata": {}
  },
  {
   "cell_type": "code",
   "execution_count": 10,
   "source": [
    "# Printing the 2 Most used Browsers and top_platform_os\n",
    "plt.figure(figsize=(10,4))\n",
    "sns.barplot(y = list_Of_browsers[:2], x = top_browsers[:2])\n",
    "plt.xlabel('User Counts')\n",
    "plt.title('List_Of_Top2_Browsers users')\n",
    "\n",
    "plt.figure(figsize=(10,4))\n",
    "sns.barplot(x = list_Of_platform_os[:2], y = top_platform_os[:2])\n",
    "plt.xlabel('User Counts')\n",
    "plt.title('List_Of_Top10_Platfrom_os Used')"
   ],
   "outputs": [
    {
     "output_type": "execute_result",
     "data": {
      "text/plain": [
       "Text(0.5, 1.0, 'List_Of_Top10_Platfrom_os Used')"
      ]
     },
     "metadata": {},
     "execution_count": 10
    },
    {
     "output_type": "display_data",
     "data": {
      "text/plain": [
       "<Figure size 720x288 with 1 Axes>"
      ],
      "image/png": "[encoded data removed]"
     },
     "metadata": {
      "needs_background": "light"
     }
    },
    {
     "output_type": "display_data",
     "data": {
      "text/plain": [
       "<Figure size 720x288 with 1 Axes>"
      ],
      "image/png": "[encoded data removed]"
     },
     "metadata": {
      "needs_background": "light"
     }
    }
   ],
   "metadata": {}
  },
  {
   "cell_type": "code",
   "execution_count": 11,
   "source": [
    "# Using two most used Browsers and two most used platform_os, separating the data to form 4 dataset\n",
    "def split_data(data, column, column_value):\n",
    "    try:\n",
    "        new_data_set = data[data[column]== column_value]\n",
    "        \n",
    "        return new_data_set\n",
    "    except KeyError as e:\n",
    "        print(\"Error occured, Try again\",e)\n",
    "        return data\n",
    "\n",
    "browser1_dataset = split_data(data, \"browser\", \"Chrome Mobile\")\n",
    "browser2_dataset = split_data(data, \"browser\", \"Chrome Mobile WebView\")\n",
    "platform_os1_dataset = split_data(data, \"platform_os\", 6)\n",
    "platform_os2_dataset = split_data(data, \"platform_os\", 5)"
   ],
   "outputs": [],
   "metadata": {}
  },
  {
   "cell_type": "markdown",
   "source": [
    "### Saving the New dataSets to new data Versions"
   ],
   "metadata": {}
  },
  {
   "cell_type": "code",
   "execution_count": 16,
   "source": [
    "# datasets_name = [browser1_dataset, browser2_dataset, platform_os1_dataset, platform_os2_dataset]\n",
    "def save_new_dataset(dataset, dataset_name):\n",
    "    print(\">\", dataset_name)\n",
    "    try:\n",
    "        dataset.to_csv('../data/'+dataset_name+'.csv', index=False)\n",
    "\n",
    "    except Exception as e:\n",
    "        print(e)"
   ],
   "outputs": [],
   "metadata": {}
  },
  {
   "cell_type": "code",
   "execution_count": null,
   "source": [
    "save_new_dataset(browser1_dataset, 'browser1_dataset')\n",
    "save_new_dataset(browser2_dataset, 'browser2_dataset')\n",
    "save_new_dataset(platform_os1_dataset, 'platform_os1_dataset')\n",
    "save_new_dataset(platform_os2_dataset, 'platform_os2_dataset')"
   ],
   "outputs": [],
   "metadata": {}
  }
 ],
 "metadata": {
  "orig_nbformat": 4,
  "language_info": {
   "name": "python",
   "version": "3.8.8",
   "mimetype": "text/x-python",
   "codemirror_mode": {
    "name": "ipython",
    "version": 3
   },
   "pygments_lexer": "ipython3",
   "nbconvert_exporter": "python",
   "file_extension": ".py"
  },
  "kernelspec": {
   "name": "python3",
   "display_name": "Python 3.8.8 64-bit ('base': conda)"
  },
  "interpreter": {
   "hash": "fc5b00bee59e553d508db9922ccda4ed2426092ffdded382ff87e02c7f5799df"
  }
 },
 "nbformat": 4,
 "nbformat_minor": 2
}