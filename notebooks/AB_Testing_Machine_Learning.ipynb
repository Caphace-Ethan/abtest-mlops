{
 "cells": [
  {
   "cell_type": "markdown",
   "source": [
    "## A/B testing Using Machine Learning \n",
    "\n",
    "### ML modelling with MLOps"
   ],
   "metadata": {}
  },
  {
   "cell_type": "markdown",
   "source": [
    "### Spliting the data by browser and platform_os, and versioning each split as a new version of the data in dvc"
   ],
   "metadata": {}
  },
  {
   "cell_type": "code",
   "execution_count": 45,
   "source": [
    "# Importing necessary packages\n",
    "import numpy as np\n",
    "from numpy import mean, std\n",
    "import pandas as pd\n",
    "import scipy.stats as stats\n",
    "import statsmodels.stats.api as sms\n",
    "import matplotlib as mpl\n",
    "import matplotlib.pyplot as plt\n",
    "import seaborn as sns\n",
    "from math import ceil\n",
    "from sklearn import preprocessing\n",
    "from sklearn.model_selection import train_test_split\n",
    "from sklearn.linear_model import LogisticRegression\n",
    "from sklearn.tree import DecisionTreeClassifier \n",
    "from sklearn import metrics\n",
    "from sklearn.model_selection import KFold, cross_val_score\n",
    "from sklearn.tree import export_graphviz\n",
    "\n"
   ],
   "outputs": [],
   "metadata": {}
  },
  {
   "cell_type": "markdown",
   "source": [
    "### Loading the data of Users that Responded"
   ],
   "metadata": {}
  },
  {
   "cell_type": "code",
   "execution_count": 2,
   "source": [
    "# Loading from my local storage\n",
    "path_to_data = \"../data/Resp_dataSet.csv\"\n",
    "data=pd.read_csv(path_to_data)\n",
    "data.info()"
   ],
   "outputs": [
    {
     "output_type": "stream",
     "name": "stdout",
     "text": [
      "<class 'pandas.core.frame.DataFrame'>\n",
      "RangeIndex: 1172 entries, 0 to 1171\n",
      "Data columns (total 9 columns):\n",
      " #   Column       Non-Null Count  Dtype \n",
      "---  ------       --------------  ----- \n",
      " 0   auction_id   1172 non-null   object\n",
      " 1   experiment   1172 non-null   object\n",
      " 2   date         1172 non-null   object\n",
      " 3   hour         1172 non-null   int64 \n",
      " 4   device_make  1172 non-null   object\n",
      " 5   platform_os  1172 non-null   int64 \n",
      " 6   browser      1172 non-null   object\n",
      " 7   yes          1172 non-null   int64 \n",
      " 8   no           1172 non-null   int64 \n",
      "dtypes: int64(4), object(5)\n",
      "memory usage: 82.5+ KB\n"
     ]
    }
   ],
   "metadata": {}
  },
  {
   "cell_type": "markdown",
   "source": [
    "### Splitting the Data\n"
   ],
   "metadata": {}
  },
  {
   "cell_type": "code",
   "execution_count": 3,
   "source": [
    "# Checking the Most used Browsers and Platform_os\n",
    "def high_frequency_category(data, column):\n",
    "    list_Of_Handset_In_Column=list(data[column].value_counts().index)\n",
    "    top_category_column = data[column].value_counts()\n",
    "    \n",
    "    return list_Of_Handset_In_Column, top_category_column\n",
    "\n",
    "list_Of_browsers, top_browsers = high_frequency_category(data, \"browser\")\n",
    "list_Of_platform_os, top_platform_os = high_frequency_category(data, \"platform_os\")\n",
    "\n",
    "print(f\" There are {len(list_Of_browsers)} browsers, and {len(list_Of_platform_os)} Platform Os used\")"
   ],
   "outputs": [
    {
     "output_type": "stream",
     "name": "stdout",
     "text": [
      " There are 8 browsers, and 2 Platform Os used\n"
     ]
    }
   ],
   "metadata": {}
  },
  {
   "cell_type": "code",
   "execution_count": 4,
   "source": [
    "# Printing the 2 Most used Browsers and top_platform_os\n",
    "plt.figure(figsize=(10,4))\n",
    "sns.barplot(y = list_Of_browsers[:2], x = top_browsers[:2])\n",
    "plt.xlabel('User Counts')\n",
    "plt.title('List_Of_Top2_Browsers users')\n",
    "\n",
    "plt.figure(figsize=(10,4))\n",
    "sns.barplot(x = list_Of_platform_os[:2], y = top_platform_os[:2])\n",
    "plt.xlabel('User Counts')\n",
    "plt.title('List_Of_Top10_Platfrom_os Used')"
   ],
   "outputs": [
    {
     "output_type": "execute_result",
     "data": {
      "text/plain": [
       "Text(0.5, 1.0, 'List_Of_Top10_Platfrom_os Used')"
      ]
     },
     "metadata": {},
     "execution_count": 4
    },
    {
     "output_type": "display_data",
     "data": {
      "text/plain": [
       "<Figure size 720x288 with 1 Axes>"
      ],
      "image/png": "[encoded data removed]"
     },
     "metadata": {
      "needs_background": "light"
     }
    },
    {
     "output_type": "display_data",
     "data": {
      "text/plain": [
       "<Figure size 720x288 with 1 Axes>"
      ],
      "image/png": "[encoded data removed]"
     },
     "metadata": {
      "needs_background": "light"
     }
    }
   ],
   "metadata": {}
  },
  {
   "cell_type": "code",
   "execution_count": 20,
   "source": [
    "# Using two most used Browsers and two most used platform_os, separating the data to form 4 dataset\n",
    "def split_data(data, column, column_value):\n",
    "    try:\n",
    "        new_data_set = data[data[column]== column_value]\n",
    "        \n",
    "        return new_data_set\n",
    "    except KeyError as e:\n",
    "        print(\"Error occured, Try again\",e)\n",
    "        return data\n",
    "\n",
    "browser1_dataset = split_data(data, \"browser\", \"Chrome Mobile\")\n",
    "browser2_dataset = split_data(data, \"browser\", \"Chrome Mobile WebView\")\n",
    "platform_os1_dataset = split_data(data, \"platform_os\", 6)\n",
    "platform_os2_dataset = split_data(data, \"platform_os\", 5)"
   ],
   "outputs": [],
   "metadata": {}
  },
  {
   "cell_type": "markdown",
   "source": [
    "### Combining the 'yes' and 'no' column to form 'aware' column"
   ],
   "metadata": {}
  },
  {
   "cell_type": "code",
   "execution_count": 21,
   "source": [
    "def drop_column(dataset):\n",
    "    # for dataset in datasets_name:\n",
    "    dataset['aware'] = dataset['yes']\n",
    "    dataset = dataset.drop(columns = ['auction_id','yes','no'], axis=1).reset_index()\n",
    "    \n",
    "    return dataset\n",
    "\n",
    "# datasets_name = [browser1_dataset, browser2_dataset, platform_os1_dataset, platform_os2_dataset]\n",
    "browser1_dataset = drop_column(browser1_dataset)\n",
    "browser2_dataset = drop_column(browser2_dataset)\n",
    "platform_os1_dataset = drop_column(platform_os1_dataset)\n",
    "platform_os2_dataset = drop_column(platform_os2_dataset)\n",
    "# platform_os2_dataset.head()"
   ],
   "outputs": [
    {
     "output_type": "stream",
     "name": "stderr",
     "text": [
      "<ipython-input-21-54bb9c06a27f>:3: SettingWithCopyWarning: \n",
      "A value is trying to be set on a copy of a slice from a DataFrame.\n",
      "Try using .loc[row_indexer,col_indexer] = value instead\n",
      "\n",
      "See the caveats in the documentation: https://pandas.pydata.org/pandas-docs/stable/user_guide/indexing.html#returning-a-view-versus-a-copy\n",
      "  dataset['aware'] = dataset['yes']\n"
     ]
    }
   ],
   "metadata": {}
  },
  {
   "cell_type": "code",
   "execution_count": 22,
   "source": [
    "platform_os2_dataset.head()"
   ],
   "outputs": [
    {
     "output_type": "execute_result",
     "data": {
      "text/plain": [
       "   index experiment        date  hour device_make  platform_os  \\\n",
       "0    355    control  2020-07-03    15      iPhone            5   \n",
       "1    356    control  2020-07-03    15      iPhone            5   \n",
       "2    443    control  2020-07-04     3      iPhone            5   \n",
       "3    529    exposed  2020-07-05     3      iPhone            5   \n",
       "4    585    exposed  2020-07-08     5      iPhone            5   \n",
       "\n",
       "                      browser  aware  \n",
       "0               Mobile Safari      0  \n",
       "1  Mobile Safari UI/WKWebView      0  \n",
       "2               Mobile Safari      1  \n",
       "3               Mobile Safari      1  \n",
       "4               Mobile Safari      0  "
      ],
      "text/html": [
       "<div>\n",
       "<style scoped>\n",
       "    .dataframe tbody tr th:only-of-type {\n",
       "        vertical-align: middle;\n",
       "    }\n",
       "\n",
       "    .dataframe tbody tr th {\n",
       "        vertical-align: top;\n",
       "    }\n",
       "\n",
       "    .dataframe thead th {\n",
       "        text-align: right;\n",
       "    }\n",
       "</style>\n",
       "<table border=\"1\" class=\"dataframe\">\n",
       "  <thead>\n",
       "    <tr style=\"text-align: right;\">\n",
       "      <th></th>\n",
       "      <th>index</th>\n",
       "      <th>experiment</th>\n",
       "      <th>date</th>\n",
       "      <th>hour</th>\n",
       "      <th>device_make</th>\n",
       "      <th>platform_os</th>\n",
       "      <th>browser</th>\n",
       "      <th>aware</th>\n",
       "    </tr>\n",
       "  </thead>\n",
       "  <tbody>\n",
       "    <tr>\n",
       "      <th>0</th>\n",
       "      <td>355</td>\n",
       "      <td>control</td>\n",
       "      <td>2020-07-03</td>\n",
       "      <td>15</td>\n",
       "      <td>iPhone</td>\n",
       "      <td>5</td>\n",
       "      <td>Mobile Safari</td>\n",
       "      <td>0</td>\n",
       "    </tr>\n",
       "    <tr>\n",
       "      <th>1</th>\n",
       "      <td>356</td>\n",
       "      <td>control</td>\n",
       "      <td>2020-07-03</td>\n",
       "      <td>15</td>\n",
       "      <td>iPhone</td>\n",
       "      <td>5</td>\n",
       "      <td>Mobile Safari UI/WKWebView</td>\n",
       "      <td>0</td>\n",
       "    </tr>\n",
       "    <tr>\n",
       "      <th>2</th>\n",
       "      <td>443</td>\n",
       "      <td>control</td>\n",
       "      <td>2020-07-04</td>\n",
       "      <td>3</td>\n",
       "      <td>iPhone</td>\n",
       "      <td>5</td>\n",
       "      <td>Mobile Safari</td>\n",
       "      <td>1</td>\n",
       "    </tr>\n",
       "    <tr>\n",
       "      <th>3</th>\n",
       "      <td>529</td>\n",
       "      <td>exposed</td>\n",
       "      <td>2020-07-05</td>\n",
       "      <td>3</td>\n",
       "      <td>iPhone</td>\n",
       "      <td>5</td>\n",
       "      <td>Mobile Safari</td>\n",
       "      <td>1</td>\n",
       "    </tr>\n",
       "    <tr>\n",
       "      <th>4</th>\n",
       "      <td>585</td>\n",
       "      <td>exposed</td>\n",
       "      <td>2020-07-08</td>\n",
       "      <td>5</td>\n",
       "      <td>iPhone</td>\n",
       "      <td>5</td>\n",
       "      <td>Mobile Safari</td>\n",
       "      <td>0</td>\n",
       "    </tr>\n",
       "  </tbody>\n",
       "</table>\n",
       "</div>"
      ]
     },
     "metadata": {},
     "execution_count": 22
    }
   ],
   "metadata": {}
  },
  {
   "cell_type": "markdown",
   "source": [
    "### Saving the New dataSets to new data Versions"
   ],
   "metadata": {}
  },
  {
   "cell_type": "code",
   "execution_count": 23,
   "source": [
    "# datasets_name = [browser1_dataset, browser2_dataset, platform_os1_dataset, platform_os2_dataset]\n",
    "def save_new_dataset(dataset, dataset_name):\n",
    "    print(\">\", dataset_name)\n",
    "    try:\n",
    "        dataset.to_csv('../data/'+dataset_name+'.csv', index=False)\n",
    "\n",
    "    except Exception as e:\n",
    "        print(e)"
   ],
   "outputs": [],
   "metadata": {}
  },
  {
   "cell_type": "code",
   "execution_count": 24,
   "source": [
    "save_new_dataset(browser1_dataset, 'browser1_dataset')\n",
    "save_new_dataset(browser2_dataset, 'browser2_dataset')\n",
    "save_new_dataset(platform_os1_dataset, 'platform_os1_dataset')\n",
    "save_new_dataset(platform_os2_dataset, 'platform_os2_dataset')"
   ],
   "outputs": [
    {
     "output_type": "stream",
     "name": "stdout",
     "text": [
      "> browser1_dataset\n",
      "> browser2_dataset\n",
      "> platform_os1_dataset\n",
      "> platform_os2_dataset\n"
     ]
    }
   ],
   "metadata": {}
  },
  {
   "cell_type": "code",
   "execution_count": 25,
   "source": [
    "# Showing the contents of the datasets\n",
    "path_to_data = \"../data/browser1_dataset.csv\"\n",
    "new_dataset1=pd.read_csv(path_to_data)\n",
    "new_dataset1.info()"
   ],
   "outputs": [
    {
     "output_type": "stream",
     "name": "stdout",
     "text": [
      "<class 'pandas.core.frame.DataFrame'>\n",
      "RangeIndex: 654 entries, 0 to 653\n",
      "Data columns (total 8 columns):\n",
      " #   Column       Non-Null Count  Dtype \n",
      "---  ------       --------------  ----- \n",
      " 0   index        654 non-null    int64 \n",
      " 1   experiment   654 non-null    object\n",
      " 2   date         654 non-null    object\n",
      " 3   hour         654 non-null    int64 \n",
      " 4   device_make  654 non-null    object\n",
      " 5   platform_os  654 non-null    int64 \n",
      " 6   browser      654 non-null    object\n",
      " 7   aware        654 non-null    int64 \n",
      "dtypes: int64(4), object(4)\n",
      "memory usage: 41.0+ KB\n"
     ]
    }
   ],
   "metadata": {}
  },
  {
   "cell_type": "markdown",
   "source": [
    "### New dataset saved to Local data Storage"
   ],
   "metadata": {}
  },
  {
   "cell_type": "markdown",
   "source": [
    "## For each version of the data do the following;\n",
    "- Split the data into 70% training, 20% validation, and 10% test sets,\n",
    "- Based on the reading material provided, apply machine learning to the training data. Train a machine learning model using 5-fold cross validation using the following 3 different algorithms:\n",
    "    - Logistic Regression \n",
    "    - Decision Trees\n",
    "    - XGBoost\n",
    "\n",
    "### Splitting Data into Training, validation and Test sets\n"
   ],
   "metadata": {}
  },
  {
   "cell_type": "code",
   "execution_count": 28,
   "source": [
    "# Data Preparation\n",
    "def encode_labels(dataframe):\n",
    "\n",
    "    experiment_encoder = preprocessing.LabelEncoder()\n",
    "    date_encoder = preprocessing.LabelEncoder()\n",
    "    hour_encoder = preprocessing.LabelEncoder()\n",
    "    device_encoder = preprocessing.LabelEncoder()\n",
    "    browser_encoder = preprocessing.LabelEncoder()\n",
    "    platform_encoder = preprocessing.LabelEncoder()\n",
    "    aware_encoder = preprocessing.LabelEncoder()\n",
    "    \n",
    "    \n",
    "    dataframe['date'] = date_encoder.fit_transform(dataframe['date'])\n",
    "    dataframe['hour'] = hour_encoder.fit_transform(dataframe['hour'])\n",
    "    dataframe['device_make'] = device_encoder.fit_transform(dataframe['device_make'])\n",
    "    dataframe['browser'] = browser_encoder.fit_transform(dataframe['browser'])\n",
    "    dataframe['experiment'] = experiment_encoder.fit_transform(dataframe['experiment'])\n",
    "    dataframe['platform_os'] = platform_encoder.fit_transform(dataframe['platform_os'])\n",
    "    dataframe['aware'] = aware_encoder.fit_transform(dataframe['aware'])\n",
    "    \n",
    "    return dataframe #, date_encoder, hour_encoder, device_encoder, browser_encoder, experiment_encoder, platform_encoder, aware_encoder"
   ],
   "outputs": [],
   "metadata": {}
  },
  {
   "cell_type": "markdown",
   "source": [
    "### Datasets Features"
   ],
   "metadata": {}
  },
  {
   "cell_type": "code",
   "execution_count": 32,
   "source": [
    "# datasets_name = [browser1_dataset, browser2_dataset, platform_os1_dataset, platform_os2_dataset]\n",
    "#create feature and target column\n",
    "def dataset_features(df):\n",
    "    df1 = encode_labels(df)\n",
    "    feature_col =[\"experiment\", \"hour\", \"date\", \"device_make\",\"browser\",\"platform_os\"]\n",
    "    features_X = df1[feature_col]\n",
    "    target_y = df1[\"aware\"]\n",
    "\n",
    "    return features_X, target_y\n",
    "\n",
    "browser1_df_features, browser1_df_target = dataset_features(browser1_dataset)\n",
    "# browser1_df_features\n",
    "browser1_df_target"
   ],
   "outputs": [
    {
     "output_type": "execute_result",
     "data": {
      "text/plain": [
       "0      1\n",
       "1      0\n",
       "2      0\n",
       "3      0\n",
       "4      1\n",
       "      ..\n",
       "649    1\n",
       "650    1\n",
       "651    0\n",
       "652    0\n",
       "653    0\n",
       "Name: aware, Length: 654, dtype: int64"
      ]
     },
     "metadata": {},
     "execution_count": 32
    }
   ],
   "metadata": {}
  },
  {
   "cell_type": "markdown",
   "source": [
    "## Logistic Regression Algorithm"
   ],
   "metadata": {}
  },
  {
   "cell_type": "code",
   "execution_count": 33,
   "source": [
    "# Splitting the Dataset to train, test and Validation in ratio of 70%, 20%, and 10%\n",
    " \n",
    "def train_test_val_split(X, Y, split=(0.2, 0.1), shuffle=True):\n",
    "    \n",
    "\n",
    "    assert len(X) == len(Y), 'The length of X and Y must be consistent.'\n",
    "    X_train, X_test_val, y_train, Y_test_val = train_test_split(X, Y, test_size=(split[0]+split[1]), shuffle=shuffle)\n",
    "    X_test, X_val, y_test, y_val = train_test_split(X_test_val, Y_test_val, \n",
    "        test_size=split[1], shuffle=False)\n",
    "    return (X_train, y_train), (X_test, y_test), (X_val, y_val)"
   ],
   "outputs": [],
   "metadata": {}
  },
  {
   "cell_type": "code",
   "execution_count": 37,
   "source": [
    "# Splitting the dataset\n",
    "browser1_X, browser1_Y = dataset_features(browser1_dataset)\n",
    "browser2_X, browser2_Y = dataset_features(browser2_dataset)\n",
    "platform1_X, platform1_Y = dataset_features(platform_os1_dataset)\n",
    "platform2_X, platform2_Y = dataset_features(platform_os2_dataset)\n",
    "\n",
    "(X1_train, y1_train), (X1_test, y1_test), (X1_val, y1_val)=train_test_val_split(browser1_X, browser1_Y)\n",
    "(X2_train, y2_train), (X2_test, y2_test), (X2_val, y2_val)=train_test_val_split(browser2_X, browser2_Y)\n",
    "(X3_train, y3_train), (X3_test, y3_test), (X3_val, y3_val)=train_test_val_split(platform1_X, platform1_Y)\n",
    "(X4_train, y4_train), (X4_test, y4_test), (X4_val, y4_val)=train_test_val_split(platform2_X, platform2_Y)"
   ],
   "outputs": [],
   "metadata": {}
  },
  {
   "cell_type": "markdown",
   "source": [
    "### Modelling"
   ],
   "metadata": {}
  },
  {
   "cell_type": "code",
   "execution_count": 59,
   "source": [
    "# create model\n",
    "model = LogisticRegression()\n",
    "#fit model\n",
    "def fit_model(model, x_train, y_train):\n",
    "    model.fit(x_train, y_train)\n",
    "    return model"
   ],
   "outputs": [],
   "metadata": {}
  },
  {
   "cell_type": "code",
   "execution_count": 60,
   "source": [
    "#predict\n",
    "def model_predict(model, X_test):\n",
    "    y_pred = model.predict(X_test)\n",
    "    return y_pred\n"
   ],
   "outputs": [],
   "metadata": {}
  },
  {
   "cell_type": "code",
   "execution_count": 61,
   "source": [
    "# Prediction of all Dataset\n",
    "\n",
    "# Test for All datasets\n",
    "target1_predictions = model_predict(fit_model(model,X1_train, y1_train), X1_test)\n",
    "target2_predictions = model_predict(fit_model(model,X2_train, y2_train), X2_test)\n",
    "target3_predictions = model_predict(fit_model(model,X3_train, y3_train), X3_test)\n",
    "target4_predictions = model_predict(fit_model(model,X4_train, y4_train), X4_test)\n",
    "\n",
    "# target1_predictions\n",
    "# target2_predictions\n",
    "# target3_predictions\n",
    "target4_predictions"
   ],
   "outputs": [
    {
     "output_type": "execute_result",
     "data": {
      "text/plain": [
       "array([0, 0, 0, 1])"
      ]
     },
     "metadata": {},
     "execution_count": 61
    }
   ],
   "metadata": {}
  },
  {
   "cell_type": "markdown",
   "source": [
    "### Validating the Model"
   ],
   "metadata": {}
  },
  {
   "cell_type": "code",
   "execution_count": 62,
   "source": [
    "# evaluating the model\n",
    "cv = KFold(n_splits=5, random_state=1, shuffle=True)\n",
    "scores1 = cross_val_score(model, X1_train, y1_train, scoring='accuracy', cv=cv, n_jobs=-1)\n",
    "scores2 = cross_val_score(model, X2_train, y2_train, scoring='accuracy', cv=cv, n_jobs=-1)\n",
    "scores3 = cross_val_score(model, X3_train, y3_train, scoring='accuracy', cv=cv, n_jobs=-1)\n",
    "scores4 = cross_val_score(model, X4_train, y4_train, scoring='accuracy', cv=cv, n_jobs=-1)\n",
    "# report performance\n",
    "print('Accuracy for browser1 dataset (Chrome Mobile): %.3f (%.3f)' % (mean(scores1), std(scores1)))\n",
    "print('Accuracy for browser1 dataset (Chrome Mobile WebView): %.3f (%.3f)' % (mean(scores2), std(scores2)))\n",
    "print('Accuracy for platformOs1 dataset (6): %.3f (%.3f)' % (mean(scores3), std(scores3)))\n",
    "print('Accuracy for platformOs2 dataset (5): %.3f (%.3f)' % (mean(scores4), std(scores4)))"
   ],
   "outputs": [
    {
     "output_type": "stream",
     "name": "stdout",
     "text": [
      "Accuracy for browser1 dataset (Chrome Mobile): 0.551 (0.014)\n",
      "Accuracy for browser1 dataset (Chrome Mobile WebView): 0.434 (0.041)\n",
      "Accuracy for platformOs1 dataset (6): 0.535 (0.035)\n",
      "Accuracy for platformOs2 dataset (5): 0.433 (0.389)\n"
     ]
    }
   ],
   "metadata": {}
  },
  {
   "cell_type": "code",
   "execution_count": 63,
   "source": [
    "print (\"Chrome Mobile Dataset Score\", scores1)\n",
    "print (\"Chrome Mobile WebView Dataset Score\", scores2)\n",
    "print (\"Platfrom Os 6 Dataset Score\", scores3)\n",
    "print (\"Platfrom Os 5 Dataset Score\", scores4)"
   ],
   "outputs": [
    {
     "output_type": "stream",
     "name": "stdout",
     "text": [
      "Chrome Mobile Dataset Score [0.56521739 0.54347826 0.52747253 0.56043956 0.56043956]\n",
      "Chrome Mobile WebView Dataset Score [0.37931034 0.4137931  0.48275862 0.4137931  0.48275862]\n",
      "Platfrom Os 6 Dataset Score [0.56790123 0.55555556 0.51234568 0.5617284  0.47826087]\n",
      "Platfrom Os 5 Dataset Score [0.66666667 1.         0.         0.         0.5       ]\n"
     ]
    }
   ],
   "metadata": {}
  },
  {
   "cell_type": "markdown",
   "source": [
    "### Confusion Matrix"
   ],
   "metadata": {}
  },
  {
   "cell_type": "code",
   "execution_count": 64,
   "source": [
    "#Confusion matrix\n",
    "cnf1_matrix = metrics.confusion_matrix(y1_test, target1_predictions)\n",
    "cnf2_matrix = metrics.confusion_matrix(y2_test, target2_predictions)\n",
    "cnf3_matrix = metrics.confusion_matrix(y3_test, target3_predictions)\n",
    "cnf4_matrix = metrics.confusion_matrix(y4_test, target4_predictions)\n"
   ],
   "outputs": [],
   "metadata": {}
  },
  {
   "cell_type": "code",
   "execution_count": 65,
   "source": [
    "cnf_matrices = [cnf1_matrix, cnf2_matrix, cnf3_matrix, cnf4_matrix]\n",
    "i = 1\n",
    "print(\"Key: Figure 1- Chrome Mobile dataset \")\n",
    "print(\"Figure 2- Chrome Mobile WebView dataset \")\n",
    "print(\"Figure 3- Platfrom Os 6 dataset \")\n",
    "print(\"Figure 4- Platfrom Os 5 dataset \")\n",
    "\n",
    "for cnf_matrix in cnf_matrices:\n",
    "    sns.heatmap(pd.DataFrame(cnf_matrix), annot=True, cmap=\"YlGnBu\", fmt='g')\n",
    "    plt.title(f\"Figure {i}, Confusion matrix\")\n",
    "    plt.ylabel('Actual')\n",
    "    plt.xlabel('Predicted')\n",
    "    plt.show()\n",
    "    i += 1\n"
   ],
   "outputs": [
    {
     "output_type": "stream",
     "name": "stdout",
     "text": [
      "Key: Figure 1- Chrome Mobile dataset \n",
      "Figure 2- Chrome Mobile WebView dataset \n",
      "Figure 3- Platfrom Os 6 dataset \n",
      "Figure 4- Platfrom Os 5 dataset \n"
     ]
    },
    {
     "output_type": "display_data",
     "data": {
      "text/plain": [
       "<Figure size 432x288 with 2 Axes>"
      ],
      "image/png": "[encoded data removed]"
     },
     "metadata": {
      "needs_background": "light"
     }
    },
    {
     "output_type": "display_data",
     "data": {
      "text/plain": [
       "<Figure size 432x288 with 2 Axes>"
      ],
      "image/png": "[encoded data removed]"
     },
     "metadata": {
      "needs_background": "light"
     }
    },
    {
     "output_type": "display_data",
     "data": {
      "text/plain": [
       "<Figure size 432x288 with 2 Axes>"
      ],
      "image/png": "[encoded data removed]"
     },
     "metadata": {
      "needs_background": "light"
     }
    },
    {
     "output_type": "display_data",
     "data": {
      "text/plain": [
       "<Figure size 432x288 with 2 Axes>"
      ],
      "image/png": "[encoded data removed]"
     },
     "metadata": {
      "needs_background": "light"
     }
    }
   ],
   "metadata": {}
  },
  {
   "cell_type": "markdown",
   "source": [
    "## Decision Tree"
   ],
   "metadata": {}
  },
  {
   "cell_type": "code",
   "execution_count": 66,
   "source": [
    "# Create Decision Tree classifer object\n",
    "clf = DecisionTreeClassifier()\n"
   ],
   "outputs": [],
   "metadata": {}
  },
  {
   "cell_type": "code",
   "execution_count": 69,
   "source": [
    "# Train Decision Tree Classifer\n",
    "# Test for All datasets\n",
    "target1_predictions = model_predict(fit_model(clf, X1_train, y1_train), X1_test)\n",
    "target2_predictions = model_predict(fit_model(clf, X2_train, y2_train), X2_test)\n",
    "target3_predictions = model_predict(fit_model(clf, X3_train, y3_train), X3_test)\n",
    "target4_predictions = model_predict(fit_model(clf, X4_train, y4_train), X4_test)\n",
    "\n",
    "# target1_predictions\n",
    "target2_predictions\n",
    "# target3_predictions\n",
    "# target4_predictions"
   ],
   "outputs": [
    {
     "output_type": "execute_result",
     "data": {
      "text/plain": [
       "array([1, 1, 1, 0, 1, 1, 1, 0, 1, 0, 1, 1, 0, 0, 1, 1, 0, 0, 1, 0, 0, 1,\n",
       "       0, 0, 1, 0, 1, 0, 1, 0, 0, 0, 0, 1, 1, 1, 1, 0, 1, 0, 1, 1, 1, 0,\n",
       "       0, 1, 1, 0, 0, 0, 0, 1, 1, 0, 1, 0])"
      ]
     },
     "metadata": {},
     "execution_count": 69
    }
   ],
   "metadata": {}
  },
  {
   "cell_type": "markdown",
   "source": [
    "### Validating the Model"
   ],
   "metadata": {}
  },
  {
   "cell_type": "code",
   "execution_count": 70,
   "source": [
    "# evaluating the model\n",
    "cv = KFold(n_splits=5, random_state=1, shuffle=True)\n",
    "scores1 = cross_val_score(model, X1_train, y1_train, scoring='accuracy', cv=cv, n_jobs=-1)\n",
    "scores2 = cross_val_score(model, X2_train, y2_train, scoring='accuracy', cv=cv, n_jobs=-1)\n",
    "scores3 = cross_val_score(model, X3_train, y3_train, scoring='accuracy', cv=cv, n_jobs=-1)\n",
    "scores4 = cross_val_score(model, X4_train, y4_train, scoring='accuracy', cv=cv, n_jobs=-1)\n",
    "# report performance\n",
    "print('Accuracy for browser1 dataset (Chrome Mobile): %.3f (%.3f)' % (mean(scores1), std(scores1)))\n",
    "print('Accuracy for browser1 dataset (Chrome Mobile WebView): %.3f (%.3f)' % (mean(scores2), std(scores2)))\n",
    "print('Accuracy for platformOs1 dataset (6): %.3f (%.3f)' % (mean(scores3), std(scores3)))\n",
    "print('Accuracy for platformOs2 dataset (5): %.3f (%.3f)' % (mean(scores4), std(scores4)))"
   ],
   "outputs": [
    {
     "output_type": "stream",
     "name": "stdout",
     "text": [
      "Accuracy for browser1 dataset (Chrome Mobile): 0.551 (0.014)\n",
      "Accuracy for browser1 dataset (Chrome Mobile WebView): 0.434 (0.041)\n",
      "Accuracy for platformOs1 dataset (6): 0.535 (0.035)\n",
      "Accuracy for platformOs2 dataset (5): 0.433 (0.389)\n"
     ]
    }
   ],
   "metadata": {}
  },
  {
   "cell_type": "code",
   "execution_count": 71,
   "source": [
    "print (\"Chrome Mobile Dataset Score\", scores1)\n",
    "print (\"Chrome Mobile WebView Dataset Score\", scores2)\n",
    "print (\"Platfrom Os 6 Dataset Score\", scores3)\n",
    "print (\"Platfrom Os 5 Dataset Score\", scores4)"
   ],
   "outputs": [
    {
     "output_type": "stream",
     "name": "stdout",
     "text": [
      "Chrome Mobile Dataset Score [0.56521739 0.54347826 0.52747253 0.56043956 0.56043956]\n",
      "Chrome Mobile WebView Dataset Score [0.37931034 0.4137931  0.48275862 0.4137931  0.48275862]\n",
      "Platfrom Os 6 Dataset Score [0.56790123 0.55555556 0.51234568 0.5617284  0.47826087]\n",
      "Platfrom Os 5 Dataset Score [0.66666667 1.         0.         0.         0.5       ]\n"
     ]
    }
   ],
   "metadata": {}
  },
  {
   "cell_type": "markdown",
   "source": [
    "### Confusion Matrix"
   ],
   "metadata": {}
  },
  {
   "cell_type": "code",
   "execution_count": 72,
   "source": [
    "#Confusion matrix\n",
    "cnf1_matrix = metrics.confusion_matrix(y1_test, target1_predictions)\n",
    "cnf2_matrix = metrics.confusion_matrix(y2_test, target2_predictions)\n",
    "cnf3_matrix = metrics.confusion_matrix(y3_test, target3_predictions)\n",
    "cnf4_matrix = metrics.confusion_matrix(y4_test, target4_predictions)"
   ],
   "outputs": [],
   "metadata": {}
  },
  {
   "cell_type": "code",
   "execution_count": 73,
   "source": [
    "cnf_matrices = [cnf1_matrix, cnf2_matrix, cnf3_matrix, cnf4_matrix]\n",
    "i = 1\n",
    "print(\"Key: Figure 1- Chrome Mobile dataset \")\n",
    "print(\"Figure 2- Chrome Mobile WebView dataset \")\n",
    "print(\"Figure 3- Platfrom Os 6 dataset \")\n",
    "print(\"Figure 4- Platfrom Os 5 dataset \")\n",
    "\n",
    "for cnf_matrix in cnf_matrices:\n",
    "    sns.heatmap(pd.DataFrame(cnf_matrix), annot=True, cmap=\"YlGnBu\", fmt='g')\n",
    "    plt.title(f\"Figure {i}, Confusion matrix\")\n",
    "    plt.ylabel('Actual')\n",
    "    plt.xlabel('Predicted')\n",
    "    plt.show()\n",
    "    i += 1\n"
   ],
   "outputs": [
    {
     "output_type": "stream",
     "name": "stdout",
     "text": [
      "Key: Figure 1- Chrome Mobile dataset \n",
      "Figure 2- Chrome Mobile WebView dataset \n",
      "Figure 3- Platfrom Os 6 dataset \n",
      "Figure 4- Platfrom Os 5 dataset \n"
     ]
    },
    {
     "output_type": "display_data",
     "data": {
      "text/plain": [
       "<Figure size 432x288 with 2 Axes>"
      ],
      "image/png": "[encoded data removed]"
     },
     "metadata": {
      "needs_background": "light"
     }
    },
    {
     "output_type": "display_data",
     "data": {
      "text/plain": [
       "<Figure size 432x288 with 2 Axes>"
      ],
      "image/png": "[encoded data removed]"
     },
     "metadata": {
      "needs_background": "light"
     }
    },
    {
     "output_type": "display_data",
     "data": {
      "text/plain": [
       "<Figure size 432x288 with 2 Axes>"
      ],
      "image/png": "[encoded data removed]"
     },
     "metadata": {
      "needs_background": "light"
     }
    },
    {
     "output_type": "display_data",
     "data": {
      "text/plain": [
       "<Figure size 432x288 with 2 Axes>"
      ],
      "image/png": "[encoded data removed]"
     },
     "metadata": {
      "needs_background": "light"
     }
    }
   ],
   "metadata": {}
  },
  {
   "cell_type": "markdown",
   "source": [
    "## Using XGBoost Algorithm"
   ],
   "metadata": {}
  }
 ],
 "metadata": {
  "orig_nbformat": 4,
  "language_info": {
   "name": "python",
   "version": "3.8.8",
   "mimetype": "text/x-python",
   "codemirror_mode": {
    "name": "ipython",
    "version": 3
   },
   "pygments_lexer": "ipython3",
   "nbconvert_exporter": "python",
   "file_extension": ".py"
  },
  "kernelspec": {
   "name": "python3",
   "display_name": "Python 3.8.8 64-bit ('base': conda)"
  },
  "interpreter": {
   "hash": "fc5b00bee59e553d508db9922ccda4ed2426092ffdded382ff87e02c7f5799df"
  }
 },
 "nbformat": 4,
 "nbformat_minor": 2
}